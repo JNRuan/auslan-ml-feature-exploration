{
 "cells": [
  {
   "cell_type": "code",
   "execution_count": 1,
   "id": "foster-plastic",
   "metadata": {},
   "outputs": [],
   "source": [
    "from pathlib import Path\n",
    "from sklearn.metrics import classification_report, ConfusionMatrixDisplay, confusion_matrix\n",
    "import matplotlib.pyplot as plt\n",
    "import numpy as np\n",
    "import pandas as pd\n",
    "import seaborn as sns\n",
    "import tensorflow as tf\n",
    "\n",
    "from data.img_seq_generator import ImageSequenceDataGenerator, MultiSequenceGenerator"
   ]
  },
  {
   "cell_type": "code",
   "execution_count": 2,
   "id": "improved-campus",
   "metadata": {},
   "outputs": [],
   "source": [
    "ELAR_TEST_CSV = Path(r'D:\\Uni\\Honours\\Project\\data\\elar\\test_labels_10classes.csv')\n",
    "AUTSL_TEST_CSV = Path(r'D:\\Uni\\Honours\\Project\\data\\autsl\\test_labels_20classes.csv')\n",
    "AUTSL_MODEL_PATH = Path(r'D:\\Uni\\Honours\\Project\\data\\autsl\\outputs\\runs\\training_rgb_042.best.hdf5')\n",
    "AUTSL_MODEL_2_PATH = Path(r'D:\\Uni\\Honours\\Project\\data\\autsl\\outputs\\runs\\multi_182.best.hdf5')\n",
    "ELAR_MODEL_PATH = Path(r'D:\\Uni\\Honours\\Project\\data\\elar\\outputs\\runs\\training_rgb_140.best.hdf5')\n",
    "ELAR_MODEL_2_PATH = Path(r'D:\\Uni\\Honours\\Project\\data\\elar\\outputs\\runs\\multi_156.best.hdf5')\n",
    "\n",
    "# Data\n",
    "AUTSL_RGB_DATA = Path(r'D:\\Uni\\Honours\\Project\\data\\autsl\\frames_rgb_20', 'test')\n",
    "AUTSL_POSE_DATA = Path(r'D:\\Uni\\Honours\\Project\\data\\autsl\\frames_full_landmarks_bg_20', 'test')\n",
    "ELAR_RGB_DATA = Path(r'D:\\Uni\\Honours\\Project\\data\\elar\\frames_rgb_10', 'test')\n",
    "ELAR_LANDMARKS_DATA = Path(r'D:\\Uni\\Honours\\Project\\data\\elar\\frames_landmarks_conf25_10', 'test')\n",
    "ELAR_POSE_DATA = Path(r'D:\\Uni\\Honours\\Project\\data\\elar\\frames_full_landmarks_bg_10', 'test')"
   ]
  },
  {
   "cell_type": "code",
   "execution_count": 3,
   "id": "collectible-alliance",
   "metadata": {},
   "outputs": [
    {
     "data": {
      "text/html": [
       "<div>\n",
       "<style scoped>\n",
       "    .dataframe tbody tr th:only-of-type {\n",
       "        vertical-align: middle;\n",
       "    }\n",
       "\n",
       "    .dataframe tbody tr th {\n",
       "        vertical-align: top;\n",
       "    }\n",
       "\n",
       "    .dataframe thead th {\n",
       "        text-align: right;\n",
       "    }\n",
       "</style>\n",
       "<table border=\"1\" class=\"dataframe\">\n",
       "  <thead>\n",
       "    <tr style=\"text-align: right;\">\n",
       "      <th></th>\n",
       "      <th>id</th>\n",
       "      <th>Sample</th>\n",
       "      <th>EN</th>\n",
       "    </tr>\n",
       "  </thead>\n",
       "  <tbody>\n",
       "    <tr>\n",
       "      <th>0</th>\n",
       "      <td>0</td>\n",
       "      <td>BMKB2c7a_boy_af357bff</td>\n",
       "      <td>boy</td>\n",
       "    </tr>\n",
       "    <tr>\n",
       "      <th>1</th>\n",
       "      <td>1</td>\n",
       "      <td>BGMQB2c7a_boy1_f0dd2718</td>\n",
       "      <td>boy</td>\n",
       "    </tr>\n",
       "    <tr>\n",
       "      <th>2</th>\n",
       "      <td>2</td>\n",
       "      <td>SGMB2c7a_boy_4ab2eead</td>\n",
       "      <td>boy</td>\n",
       "    </tr>\n",
       "    <tr>\n",
       "      <th>3</th>\n",
       "      <td>3</td>\n",
       "      <td>BCHA2c7a_boy_89b64016</td>\n",
       "      <td>boy</td>\n",
       "    </tr>\n",
       "    <tr>\n",
       "      <th>4</th>\n",
       "      <td>4</td>\n",
       "      <td>MVSB3c9a_boy_a7bd797f</td>\n",
       "      <td>boy</td>\n",
       "    </tr>\n",
       "  </tbody>\n",
       "</table>\n",
       "</div>"
      ],
      "text/plain": [
       "   id                   Sample   EN\n",
       "0   0    BMKB2c7a_boy_af357bff  boy\n",
       "1   1  BGMQB2c7a_boy1_f0dd2718  boy\n",
       "2   2    SGMB2c7a_boy_4ab2eead  boy\n",
       "3   3    BCHA2c7a_boy_89b64016  boy\n",
       "4   4    MVSB3c9a_boy_a7bd797f  boy"
      ]
     },
     "execution_count": 3,
     "metadata": {},
     "output_type": "execute_result"
    }
   ],
   "source": [
    "elar_df = pd.read_csv(ELAR_TEST_CSV)\n",
    "elar_df.head()"
   ]
  },
  {
   "cell_type": "code",
   "execution_count": 4,
   "id": "plastic-equity",
   "metadata": {},
   "outputs": [
    {
     "data": {
      "text/html": [
       "<div>\n",
       "<style scoped>\n",
       "    .dataframe tbody tr th:only-of-type {\n",
       "        vertical-align: middle;\n",
       "    }\n",
       "\n",
       "    .dataframe tbody tr th {\n",
       "        vertical-align: top;\n",
       "    }\n",
       "\n",
       "    .dataframe thead th {\n",
       "        text-align: right;\n",
       "    }\n",
       "</style>\n",
       "<table border=\"1\" class=\"dataframe\">\n",
       "  <thead>\n",
       "    <tr style=\"text-align: right;\">\n",
       "      <th></th>\n",
       "      <th>Unnamed: 0</th>\n",
       "      <th>Sample</th>\n",
       "      <th>ClassId</th>\n",
       "      <th>EN</th>\n",
       "    </tr>\n",
       "  </thead>\n",
       "  <tbody>\n",
       "    <tr>\n",
       "      <th>0</th>\n",
       "      <td>30</td>\n",
       "      <td>signer34_sample31</td>\n",
       "      <td>86</td>\n",
       "      <td>no</td>\n",
       "    </tr>\n",
       "    <tr>\n",
       "      <th>1</th>\n",
       "      <td>34</td>\n",
       "      <td>signer34_sample35</td>\n",
       "      <td>13</td>\n",
       "      <td>key</td>\n",
       "    </tr>\n",
       "    <tr>\n",
       "      <th>2</th>\n",
       "      <td>50</td>\n",
       "      <td>signer34_sample51</td>\n",
       "      <td>120</td>\n",
       "      <td>dog</td>\n",
       "    </tr>\n",
       "    <tr>\n",
       "      <th>3</th>\n",
       "      <td>68</td>\n",
       "      <td>signer34_sample69</td>\n",
       "      <td>126</td>\n",
       "      <td>scissors</td>\n",
       "    </tr>\n",
       "    <tr>\n",
       "      <th>4</th>\n",
       "      <td>78</td>\n",
       "      <td>signer34_sample79</td>\n",
       "      <td>22</td>\n",
       "      <td>look</td>\n",
       "    </tr>\n",
       "  </tbody>\n",
       "</table>\n",
       "</div>"
      ],
      "text/plain": [
       "   Unnamed: 0             Sample  ClassId        EN\n",
       "0          30  signer34_sample31       86        no\n",
       "1          34  signer34_sample35       13       key\n",
       "2          50  signer34_sample51      120       dog\n",
       "3          68  signer34_sample69      126  scissors\n",
       "4          78  signer34_sample79       22      look"
      ]
     },
     "execution_count": 4,
     "metadata": {},
     "output_type": "execute_result"
    }
   ],
   "source": [
    "autsl_df = pd.read_csv(AUTSL_TEST_CSV)\n",
    "autsl_df.head()"
   ]
  },
  {
   "cell_type": "code",
   "execution_count": 5,
   "id": "prostate-crossing",
   "metadata": {},
   "outputs": [
    {
     "data": {
      "text/plain": [
       "array(['boy', 'dog', 'frog', 'good', 'have', 'look', 'one', 'people',\n",
       "       'tortoise', 'wolf'], dtype=object)"
      ]
     },
     "execution_count": 5,
     "metadata": {},
     "output_type": "execute_result"
    }
   ],
   "source": [
    "elar_true_labels = elar_df['EN']\n",
    "elar_classes = np.unique(elar_true_labels)\n",
    "elar_classes"
   ]
  },
  {
   "cell_type": "code",
   "execution_count": 6,
   "id": "ethical-mississippi",
   "metadata": {},
   "outputs": [
    {
     "name": "stdout",
     "output_type": "stream",
     "text": [
      "True label indice for first sample, 'boy': [0]\n",
      "Class label = ['boy']\n"
     ]
    }
   ],
   "source": [
    "elar_true_label_indices = [np.where(elar_classes == label)[0] for label in elar_true_labels]\n",
    "# elar_true_label_indices\n",
    "print(f\"True label indice for first sample, 'boy': {elar_true_label_indices[0]}\")\n",
    "print(f\"Class label = {elar_classes[elar_true_label_indices[0]]}\")"
   ]
  },
  {
   "cell_type": "code",
   "execution_count": 7,
   "id": "neutral-letters",
   "metadata": {},
   "outputs": [
    {
     "data": {
      "text/plain": [
       "array(['apologize', 'breakfast', 'congratulations', 'dog', 'eat',\n",
       "       'friend', 'garden', 'hurry', 'ill', 'key', 'look', 'money', 'no',\n",
       "       'okay', 'pillow', 'room', 'scissors', 'tea', 'umbrella', 'wedding'],\n",
       "      dtype=object)"
      ]
     },
     "execution_count": 7,
     "metadata": {},
     "output_type": "execute_result"
    }
   ],
   "source": [
    "autsl_true_labels = autsl_df['EN']\n",
    "autsl_classes = np.unique(autsl_true_labels)\n",
    "autsl_classes"
   ]
  },
  {
   "cell_type": "code",
   "execution_count": 8,
   "id": "moved-covering",
   "metadata": {},
   "outputs": [
    {
     "name": "stdout",
     "output_type": "stream",
     "text": [
      "True label indice for first sample, 'no': [12]\n",
      "Class label = ['no']\n"
     ]
    }
   ],
   "source": [
    "autsl_true_label_indices = [np.where(autsl_classes == label)[0] for label in autsl_true_labels]\n",
    "# autsl_true_label_indices\n",
    "print(f\"True label indice for first sample, 'no': {autsl_true_label_indices[0]}\")\n",
    "print(f\"Class label = {autsl_classes[autsl_true_label_indices[0]]}\")"
   ]
  },
  {
   "cell_type": "code",
   "execution_count": 9,
   "id": "optical-potato",
   "metadata": {},
   "outputs": [],
   "source": [
    "# HELPERS\n",
    "def make_confusion_matrix(true_labels, predictions, classes, figname):\n",
    "    # Confusion Matrix\n",
    "    cm = confusion_matrix(true_labels[:predictions.shape[0]], predictions)\n",
    "    plt.figure(figsize=(16,10))\n",
    "\n",
    "    ax = plt.subplot()\n",
    "    sns.heatmap(cm, annot=True, fmt='g', ax=ax, cmap='viridis')\n",
    "    ax.set_xlabel('Predicted labels')\n",
    "    ax.set_ylabel('True labels')\n",
    "    ax.set_title(f'{figname} Confusion Matrix')\n",
    "    ax.xaxis.set_ticklabels(classes, rotation=45)\n",
    "    ax.yaxis.set_ticklabels(classes, rotation=360)\n",
    "    plt.savefig(f\"{figname}_cm.jpg\", dpi=300)\n",
    "    plt.show()\n",
    "    \n",
    "def show_image_seq(img_sequence):\n",
    "    n = img_sequence.shape[0]\n",
    "    fig = plt.figure(figsize=(8,8))\n",
    "    r = int(n**.5)\n",
    "    c = int(np.ceil(n/r))\n",
    "    for i in range(n):\n",
    "        ax = fig.add_subplot(r, c, i + 1, xticks = [], yticks = [])\n",
    "        ax.imshow(img_sequence[i]/255.)\n",
    "    plt.axis('off')\n",
    "    plt.show()\n",
    "    \n",
    "def top_n_accuracy(preds, truths, n):\n",
    "    best_n = np.argsort(preds, axis=1)[:,-n:]\n",
    "    ts = truths[:preds.shape[0]]\n",
    "    successes = 0\n",
    "    for i in range(len(ts)):\n",
    "        if ts[i] in best_n[i,:]:\n",
    "            successes += 1\n",
    "    return float(successes)/len(ts)"
   ]
  },
  {
   "cell_type": "markdown",
   "id": "prostate-awareness",
   "metadata": {},
   "source": [
    "# AUTSL\n",
    "## RGB Model"
   ]
  },
  {
   "cell_type": "code",
   "execution_count": 34,
   "id": "official-sponsorship",
   "metadata": {},
   "outputs": [
    {
     "name": "stdout",
     "output_type": "stream",
     "text": [
      "Model: \"model_1\"\n",
      "_________________________________________________________________\n",
      "Layer (type)                 Output Shape              Param #   \n",
      "=================================================================\n",
      "input_4 (InputLayer)         [(None, None, 224, 224, 3 0         \n",
      "_________________________________________________________________\n",
      "EfficientNetB0 (TimeDistribu (None, None, 7, 7, 1280)  4049571   \n",
      "_________________________________________________________________\n",
      "time_distributed_1 (TimeDist (None, None, 1280)        0         \n",
      "_________________________________________________________________\n",
      "lstm_1 (LSTM)                (None, 512)               3672064   \n",
      "_________________________________________________________________\n",
      "dense_2 (Dense)              (None, 512)               262656    \n",
      "_________________________________________________________________\n",
      "dropout_1 (Dropout)          (None, 512)               0         \n",
      "_________________________________________________________________\n",
      "dense_3 (Dense)              (None, 20)                10260     \n",
      "=================================================================\n",
      "Total params: 7,994,551\n",
      "Trainable params: 3,944,980\n",
      "Non-trainable params: 4,049,571\n",
      "_________________________________________________________________\n"
     ]
    }
   ],
   "source": [
    "autsl_model = tf.keras.models.load_model(AUTSL_MODEL_PATH)\n",
    "autsl_model.summary()"
   ]
  },
  {
   "cell_type": "code",
   "execution_count": 35,
   "id": "hollywood-teaching",
   "metadata": {},
   "outputs": [],
   "source": [
    "batch = 8\n",
    "input_size = (224, 224, 3)\n",
    "autsl_rgb_gen = ImageSequenceDataGenerator(autsl_df, str(AUTSL_RGB_DATA), batch_size=batch, input_size=input_size, shuffle=False)\n",
    "# autsl_depth_gen = ImageSequenceDataGenerator(autsl_df, str(AUTSL_DEPTH_DATA), batch_size=batch, input_size=input_size, shuffle=False)\n",
    "# autsl_multi_gen = MultiSequenceGenerator(autsl_df, [autsl_rgb_gen, autsl_depth_gen], shuffle=False)"
   ]
  },
  {
   "cell_type": "code",
   "execution_count": 36,
   "id": "burning-berry",
   "metadata": {},
   "outputs": [
    {
     "name": "stdout",
     "output_type": "stream",
     "text": [
      "41/41 [==============================] - 53s 1s/step\n"
     ]
    }
   ],
   "source": [
    "# Evaluate model\n",
    "predictions = autsl_model.predict(autsl_rgb_gen, batch_size=batch, verbose=1)"
   ]
  },
  {
   "cell_type": "code",
   "execution_count": 37,
   "id": "blond-windows",
   "metadata": {},
   "outputs": [
    {
     "name": "stdout",
     "output_type": "stream",
     "text": [
      "                 precision    recall  f1-score   support\n",
      "\n",
      "      apologize       0.33      0.47      0.39        17\n",
      "      breakfast       0.31      0.24      0.27        17\n",
      "congratulations       0.12      0.14      0.13        14\n",
      "            dog       0.36      0.24      0.29        17\n",
      "            eat       0.37      0.41      0.39        17\n",
      "         friend       0.16      0.73      0.26        15\n",
      "         garden       0.52      0.71      0.60        17\n",
      "          hurry       0.20      0.19      0.19        16\n",
      "            ill       0.48      0.71      0.57        17\n",
      "            key       0.14      0.06      0.09        16\n",
      "           look       0.24      0.29      0.26        17\n",
      "          money       0.07      0.06      0.06        16\n",
      "             no       0.33      0.06      0.11        16\n",
      "           okay       1.00      0.31      0.48        16\n",
      "         pillow       0.61      0.65      0.63        17\n",
      "           room       0.18      0.12      0.14        17\n",
      "       scissors       0.27      0.19      0.22        16\n",
      "            tea       0.00      0.00      0.00        17\n",
      "       umbrella       0.50      0.29      0.37        17\n",
      "        wedding       0.17      0.06      0.09        16\n",
      "\n",
      "       accuracy                           0.30       328\n",
      "      macro avg       0.32      0.30      0.28       328\n",
      "   weighted avg       0.32      0.30      0.28       328\n",
      "\n"
     ]
    }
   ],
   "source": [
    "top_1_predictions = np.argmax(predictions, axis=1)\n",
    "top_1_report = classification_report(autsl_true_label_indices[:top_1_predictions.shape[0]], top_1_predictions, target_names=autsl_classes)\n",
    "print(top_1_report)"
   ]
  },
  {
   "cell_type": "code",
   "execution_count": 38,
   "id": "excess-likelihood",
   "metadata": {},
   "outputs": [
    {
     "data": {
      "text/plain": [
       "0.7652439024390244"
      ]
     },
     "execution_count": 38,
     "metadata": {},
     "output_type": "execute_result"
    }
   ],
   "source": [
    "top_n_accuracy(predictions, autsl_true_label_indices, 5)"
   ]
  },
  {
   "cell_type": "code",
   "execution_count": 39,
   "id": "announced-honey",
   "metadata": {},
   "outputs": [
    {
     "data": {
      "text/plain": [
       "0.5853658536585366"
      ]
     },
     "execution_count": 39,
     "metadata": {},
     "output_type": "execute_result"
    }
   ],
   "source": [
    "top_n_accuracy(predictions, autsl_true_label_indices, 3)"
   ]
  },
  {
   "cell_type": "code",
   "execution_count": 40,
   "id": "voluntary-entrepreneur",
   "metadata": {},
   "outputs": [
    {
     "data": {
      "image/png": "[encoded data removed]",
      "text/plain": [
       "<Figure size 1152x720 with 2 Axes>"
      ]
     },
     "metadata": {
      "needs_background": "light"
     },
     "output_type": "display_data"
    }
   ],
   "source": [
    "make_confusion_matrix(autsl_true_label_indices, top_1_predictions, autsl_classes, \"AUTSL RGB\")"
   ]
  },
  {
   "cell_type": "markdown",
   "id": "cosmetic-newspaper",
   "metadata": {},
   "source": [
    "## AUTSL RGB + POSE"
   ]
  },
  {
   "cell_type": "code",
   "execution_count": 10,
   "id": "hazardous-anger",
   "metadata": {},
   "outputs": [
    {
     "name": "stdout",
     "output_type": "stream",
     "text": [
      "Model: \"model_1\"\n",
      "__________________________________________________________________________________________________\n",
      "Layer (type)                    Output Shape         Param #     Connected to                     \n",
      "==================================================================================================\n",
      "rgb Input (InputLayer)          [(None, None, 224, 2 0                                            \n",
      "__________________________________________________________________________________________________\n",
      "landmarks Input (InputLayer)    [(None, None, 224, 2 0                                            \n",
      "__________________________________________________________________________________________________\n",
      "EfficientNetB0_rgb (TimeDistrib (None, None, 7, 7, 1 4049571     rgb Input[0][0]                  \n",
      "__________________________________________________________________________________________________\n",
      "EfficientNetB0_landmarks (TimeD (None, None, 7, 7, 1 4049571     landmarks Input[0][0]            \n",
      "__________________________________________________________________________________________________\n",
      "time_distributed_2 (TimeDistrib (None, None, 1280)   0           EfficientNetB0_rgb[0][0]         \n",
      "__________________________________________________________________________________________________\n",
      "time_distributed_3 (TimeDistrib (None, None, 1280)   0           EfficientNetB0_landmarks[0][0]   \n",
      "__________________________________________________________________________________________________\n",
      "concatenate_1 (Concatenate)     (None, None, 2560)   0           time_distributed_2[0][0]         \n",
      "                                                                 time_distributed_3[0][0]         \n",
      "__________________________________________________________________________________________________\n",
      "lstm_1 (LSTM)                   (None, 512)          6293504     concatenate_1[0][0]              \n",
      "__________________________________________________________________________________________________\n",
      "dense_2 (Dense)                 (None, 512)          262656      lstm_1[0][0]                     \n",
      "__________________________________________________________________________________________________\n",
      "dropout_1 (Dropout)             (None, 512)          0           dense_2[0][0]                    \n",
      "__________________________________________________________________________________________________\n",
      "dense_3 (Dense)                 (None, 20)           10260       dropout_1[0][0]                  \n",
      "==================================================================================================\n",
      "Total params: 14,665,562\n",
      "Trainable params: 6,566,420\n",
      "Non-trainable params: 8,099,142\n",
      "__________________________________________________________________________________________________\n"
     ]
    }
   ],
   "source": [
    "autsl_model = tf.keras.models.load_model(AUTSL_MODEL_2_PATH)\n",
    "autsl_model.summary()"
   ]
  },
  {
   "cell_type": "code",
   "execution_count": 13,
   "id": "durable-venezuela",
   "metadata": {},
   "outputs": [],
   "source": [
    "batch = 2\n",
    "input_size = (224, 224, 3)\n",
    "autsl_rgb_gen = ImageSequenceDataGenerator(autsl_df, str(AUTSL_RGB_DATA), batch_size=batch, input_size=input_size, shuffle=False)\n",
    "autsl_pose_gen = ImageSequenceDataGenerator(autsl_df, str(AUTSL_POSE_DATA), batch_size=batch, input_size=input_size, shuffle=False)\n",
    "autsl_multi_gen = MultiSequenceGenerator(autsl_df, [autsl_rgb_gen, autsl_pose_gen], shuffle=False)"
   ]
  },
  {
   "cell_type": "code",
   "execution_count": 14,
   "id": "entitled-nicholas",
   "metadata": {},
   "outputs": [
    {
     "ename": "UnknownError",
     "evalue": " Failed to get convolution algorithm. This is probably because cuDNN failed to initialize, so try looking to see if a warning log message was printed above.\n\t [[node model_1/EfficientNetB0_rgb/efficientnetb0/stem_conv/Conv2D (defined at <ipython-input-12-bf249316fee7>:2) ]] [Op:__inference_predict_function_21482]\n\nFunction call stack:\npredict_function\n",
     "output_type": "error",
     "traceback": [
      "\u001b[1;31m---------------------------------------------------------------------------\u001b[0m",
      "\u001b[1;31mUnknownError\u001b[0m                              Traceback (most recent call last)",
      "\u001b[1;32m<ipython-input-14-bf249316fee7>\u001b[0m in \u001b[0;36m<module>\u001b[1;34m\u001b[0m\n\u001b[0;32m      1\u001b[0m \u001b[1;31m# Evaluate model\u001b[0m\u001b[1;33m\u001b[0m\u001b[1;33m\u001b[0m\u001b[1;33m\u001b[0m\u001b[0m\n\u001b[1;32m----> 2\u001b[1;33m \u001b[0mpredictions\u001b[0m \u001b[1;33m=\u001b[0m \u001b[0mautsl_model\u001b[0m\u001b[1;33m.\u001b[0m\u001b[0mpredict\u001b[0m\u001b[1;33m(\u001b[0m\u001b[0mautsl_multi_gen\u001b[0m\u001b[1;33m,\u001b[0m \u001b[0mbatch_size\u001b[0m\u001b[1;33m=\u001b[0m\u001b[0mbatch\u001b[0m\u001b[1;33m,\u001b[0m \u001b[0mverbose\u001b[0m\u001b[1;33m=\u001b[0m\u001b[1;36m1\u001b[0m\u001b[1;33m)\u001b[0m\u001b[1;33m\u001b[0m\u001b[1;33m\u001b[0m\u001b[0m\n\u001b[0m",
      "\u001b[1;32mc:\\users\\new user\\appdata\\local\\programs\\python\\python38\\lib\\site-packages\\keras\\engine\\training.py\u001b[0m in \u001b[0;36mpredict\u001b[1;34m(self, x, batch_size, verbose, steps, callbacks, max_queue_size, workers, use_multiprocessing)\u001b[0m\n\u001b[0;32m   1749\u001b[0m           \u001b[1;32mfor\u001b[0m \u001b[0mstep\u001b[0m \u001b[1;32min\u001b[0m \u001b[0mdata_handler\u001b[0m\u001b[1;33m.\u001b[0m\u001b[0msteps\u001b[0m\u001b[1;33m(\u001b[0m\u001b[1;33m)\u001b[0m\u001b[1;33m:\u001b[0m\u001b[1;33m\u001b[0m\u001b[1;33m\u001b[0m\u001b[0m\n\u001b[0;32m   1750\u001b[0m             \u001b[0mcallbacks\u001b[0m\u001b[1;33m.\u001b[0m\u001b[0mon_predict_batch_begin\u001b[0m\u001b[1;33m(\u001b[0m\u001b[0mstep\u001b[0m\u001b[1;33m)\u001b[0m\u001b[1;33m\u001b[0m\u001b[1;33m\u001b[0m\u001b[0m\n\u001b[1;32m-> 1751\u001b[1;33m             \u001b[0mtmp_batch_outputs\u001b[0m \u001b[1;33m=\u001b[0m \u001b[0mself\u001b[0m\u001b[1;33m.\u001b[0m\u001b[0mpredict_function\u001b[0m\u001b[1;33m(\u001b[0m\u001b[0miterator\u001b[0m\u001b[1;33m)\u001b[0m\u001b[1;33m\u001b[0m\u001b[1;33m\u001b[0m\u001b[0m\n\u001b[0m\u001b[0;32m   1752\u001b[0m             \u001b[1;32mif\u001b[0m \u001b[0mdata_handler\u001b[0m\u001b[1;33m.\u001b[0m\u001b[0mshould_sync\u001b[0m\u001b[1;33m:\u001b[0m\u001b[1;33m\u001b[0m\u001b[1;33m\u001b[0m\u001b[0m\n\u001b[0;32m   1753\u001b[0m               \u001b[0mcontext\u001b[0m\u001b[1;33m.\u001b[0m\u001b[0masync_wait\u001b[0m\u001b[1;33m(\u001b[0m\u001b[1;33m)\u001b[0m\u001b[1;33m\u001b[0m\u001b[1;33m\u001b[0m\u001b[0m\n",
      "\u001b[1;32mc:\\users\\new user\\appdata\\local\\programs\\python\\python38\\lib\\site-packages\\tensorflow\\python\\eager\\def_function.py\u001b[0m in \u001b[0;36m__call__\u001b[1;34m(self, *args, **kwds)\u001b[0m\n\u001b[0;32m    883\u001b[0m \u001b[1;33m\u001b[0m\u001b[0m\n\u001b[0;32m    884\u001b[0m       \u001b[1;32mwith\u001b[0m \u001b[0mOptionalXlaContext\u001b[0m\u001b[1;33m(\u001b[0m\u001b[0mself\u001b[0m\u001b[1;33m.\u001b[0m\u001b[0m_jit_compile\u001b[0m\u001b[1;33m)\u001b[0m\u001b[1;33m:\u001b[0m\u001b[1;33m\u001b[0m\u001b[1;33m\u001b[0m\u001b[0m\n\u001b[1;32m--> 885\u001b[1;33m         \u001b[0mresult\u001b[0m \u001b[1;33m=\u001b[0m \u001b[0mself\u001b[0m\u001b[1;33m.\u001b[0m\u001b[0m_call\u001b[0m\u001b[1;33m(\u001b[0m\u001b[1;33m*\u001b[0m\u001b[0margs\u001b[0m\u001b[1;33m,\u001b[0m \u001b[1;33m**\u001b[0m\u001b[0mkwds\u001b[0m\u001b[1;33m)\u001b[0m\u001b[1;33m\u001b[0m\u001b[1;33m\u001b[0m\u001b[0m\n\u001b[0m\u001b[0;32m    886\u001b[0m \u001b[1;33m\u001b[0m\u001b[0m\n\u001b[0;32m    887\u001b[0m       \u001b[0mnew_tracing_count\u001b[0m \u001b[1;33m=\u001b[0m \u001b[0mself\u001b[0m\u001b[1;33m.\u001b[0m\u001b[0mexperimental_get_tracing_count\u001b[0m\u001b[1;33m(\u001b[0m\u001b[1;33m)\u001b[0m\u001b[1;33m\u001b[0m\u001b[1;33m\u001b[0m\u001b[0m\n",
      "\u001b[1;32mc:\\users\\new user\\appdata\\local\\programs\\python\\python38\\lib\\site-packages\\tensorflow\\python\\eager\\def_function.py\u001b[0m in \u001b[0;36m_call\u001b[1;34m(self, *args, **kwds)\u001b[0m\n\u001b[0;32m    922\u001b[0m       \u001b[1;31m# In this case we have not created variables on the first call. So we can\u001b[0m\u001b[1;33m\u001b[0m\u001b[1;33m\u001b[0m\u001b[1;33m\u001b[0m\u001b[0m\n\u001b[0;32m    923\u001b[0m       \u001b[1;31m# run the first trace but we should fail if variables are created.\u001b[0m\u001b[1;33m\u001b[0m\u001b[1;33m\u001b[0m\u001b[1;33m\u001b[0m\u001b[0m\n\u001b[1;32m--> 924\u001b[1;33m       \u001b[0mresults\u001b[0m \u001b[1;33m=\u001b[0m \u001b[0mself\u001b[0m\u001b[1;33m.\u001b[0m\u001b[0m_stateful_fn\u001b[0m\u001b[1;33m(\u001b[0m\u001b[1;33m*\u001b[0m\u001b[0margs\u001b[0m\u001b[1;33m,\u001b[0m \u001b[1;33m**\u001b[0m\u001b[0mkwds\u001b[0m\u001b[1;33m)\u001b[0m\u001b[1;33m\u001b[0m\u001b[1;33m\u001b[0m\u001b[0m\n\u001b[0m\u001b[0;32m    925\u001b[0m       \u001b[1;32mif\u001b[0m \u001b[0mself\u001b[0m\u001b[1;33m.\u001b[0m\u001b[0m_created_variables\u001b[0m \u001b[1;32mand\u001b[0m \u001b[1;32mnot\u001b[0m \u001b[0mALLOW_DYNAMIC_VARIABLE_CREATION\u001b[0m\u001b[1;33m:\u001b[0m\u001b[1;33m\u001b[0m\u001b[1;33m\u001b[0m\u001b[0m\n\u001b[0;32m    926\u001b[0m         raise ValueError(\"Creating variables on a non-first call to a function\"\n",
      "\u001b[1;32mc:\\users\\new user\\appdata\\local\\programs\\python\\python38\\lib\\site-packages\\tensorflow\\python\\eager\\function.py\u001b[0m in \u001b[0;36m__call__\u001b[1;34m(self, *args, **kwargs)\u001b[0m\n\u001b[0;32m   3037\u001b[0m       (graph_function,\n\u001b[0;32m   3038\u001b[0m        filtered_flat_args) = self._maybe_define_function(args, kwargs)\n\u001b[1;32m-> 3039\u001b[1;33m     return graph_function._call_flat(\n\u001b[0m\u001b[0;32m   3040\u001b[0m         filtered_flat_args, captured_inputs=graph_function.captured_inputs)  # pylint: disable=protected-access\n\u001b[0;32m   3041\u001b[0m \u001b[1;33m\u001b[0m\u001b[0m\n",
      "\u001b[1;32mc:\\users\\new user\\appdata\\local\\programs\\python\\python38\\lib\\site-packages\\tensorflow\\python\\eager\\function.py\u001b[0m in \u001b[0;36m_call_flat\u001b[1;34m(self, args, captured_inputs, cancellation_manager)\u001b[0m\n\u001b[0;32m   1961\u001b[0m         and executing_eagerly):\n\u001b[0;32m   1962\u001b[0m       \u001b[1;31m# No tape is watching; skip to running the function.\u001b[0m\u001b[1;33m\u001b[0m\u001b[1;33m\u001b[0m\u001b[1;33m\u001b[0m\u001b[0m\n\u001b[1;32m-> 1963\u001b[1;33m       return self._build_call_outputs(self._inference_function.call(\n\u001b[0m\u001b[0;32m   1964\u001b[0m           ctx, args, cancellation_manager=cancellation_manager))\n\u001b[0;32m   1965\u001b[0m     forward_backward = self._select_forward_and_backward_functions(\n",
      "\u001b[1;32mc:\\users\\new user\\appdata\\local\\programs\\python\\python38\\lib\\site-packages\\tensorflow\\python\\eager\\function.py\u001b[0m in \u001b[0;36mcall\u001b[1;34m(self, ctx, args, cancellation_manager)\u001b[0m\n\u001b[0;32m    589\u001b[0m       \u001b[1;32mwith\u001b[0m \u001b[0m_InterpolateFunctionError\u001b[0m\u001b[1;33m(\u001b[0m\u001b[0mself\u001b[0m\u001b[1;33m)\u001b[0m\u001b[1;33m:\u001b[0m\u001b[1;33m\u001b[0m\u001b[1;33m\u001b[0m\u001b[0m\n\u001b[0;32m    590\u001b[0m         \u001b[1;32mif\u001b[0m \u001b[0mcancellation_manager\u001b[0m \u001b[1;32mis\u001b[0m \u001b[1;32mNone\u001b[0m\u001b[1;33m:\u001b[0m\u001b[1;33m\u001b[0m\u001b[1;33m\u001b[0m\u001b[0m\n\u001b[1;32m--> 591\u001b[1;33m           outputs = execute.execute(\n\u001b[0m\u001b[0;32m    592\u001b[0m               \u001b[0mstr\u001b[0m\u001b[1;33m(\u001b[0m\u001b[0mself\u001b[0m\u001b[1;33m.\u001b[0m\u001b[0msignature\u001b[0m\u001b[1;33m.\u001b[0m\u001b[0mname\u001b[0m\u001b[1;33m)\u001b[0m\u001b[1;33m,\u001b[0m\u001b[1;33m\u001b[0m\u001b[1;33m\u001b[0m\u001b[0m\n\u001b[0;32m    593\u001b[0m               \u001b[0mnum_outputs\u001b[0m\u001b[1;33m=\u001b[0m\u001b[0mself\u001b[0m\u001b[1;33m.\u001b[0m\u001b[0m_num_outputs\u001b[0m\u001b[1;33m,\u001b[0m\u001b[1;33m\u001b[0m\u001b[1;33m\u001b[0m\u001b[0m\n",
      "\u001b[1;32mc:\\users\\new user\\appdata\\local\\programs\\python\\python38\\lib\\site-packages\\tensorflow\\python\\eager\\execute.py\u001b[0m in \u001b[0;36mquick_execute\u001b[1;34m(op_name, num_outputs, inputs, attrs, ctx, name)\u001b[0m\n\u001b[0;32m     57\u001b[0m   \u001b[1;32mtry\u001b[0m\u001b[1;33m:\u001b[0m\u001b[1;33m\u001b[0m\u001b[1;33m\u001b[0m\u001b[0m\n\u001b[0;32m     58\u001b[0m     \u001b[0mctx\u001b[0m\u001b[1;33m.\u001b[0m\u001b[0mensure_initialized\u001b[0m\u001b[1;33m(\u001b[0m\u001b[1;33m)\u001b[0m\u001b[1;33m\u001b[0m\u001b[1;33m\u001b[0m\u001b[0m\n\u001b[1;32m---> 59\u001b[1;33m     tensors = pywrap_tfe.TFE_Py_Execute(ctx._handle, device_name, op_name,\n\u001b[0m\u001b[0;32m     60\u001b[0m                                         inputs, attrs, num_outputs)\n\u001b[0;32m     61\u001b[0m   \u001b[1;32mexcept\u001b[0m \u001b[0mcore\u001b[0m\u001b[1;33m.\u001b[0m\u001b[0m_NotOkStatusException\u001b[0m \u001b[1;32mas\u001b[0m \u001b[0me\u001b[0m\u001b[1;33m:\u001b[0m\u001b[1;33m\u001b[0m\u001b[1;33m\u001b[0m\u001b[0m\n",
      "\u001b[1;31mUnknownError\u001b[0m:  Failed to get convolution algorithm. This is probably because cuDNN failed to initialize, so try looking to see if a warning log message was printed above.\n\t [[node model_1/EfficientNetB0_rgb/efficientnetb0/stem_conv/Conv2D (defined at <ipython-input-12-bf249316fee7>:2) ]] [Op:__inference_predict_function_21482]\n\nFunction call stack:\npredict_function\n"
     ]
    }
   ],
   "source": [
    "# Evaluate model\n",
    "predictions = autsl_model.predict(autsl_multi_gen, batch_size=batch, verbose=1)"
   ]
  },
  {
   "cell_type": "code",
   "execution_count": 53,
   "id": "respected-distance",
   "metadata": {},
   "outputs": [
    {
     "name": "stdout",
     "output_type": "stream",
     "text": [
      "                 precision    recall  f1-score   support\n",
      "\n",
      "      apologize       0.00      0.00      0.00        17\n",
      "      breakfast       0.05      0.06      0.06        17\n",
      "congratulations       0.11      0.36      0.17        14\n",
      "            dog       0.00      0.00      0.00        17\n",
      "            eat       0.13      0.12      0.12        17\n",
      "         friend       1.00      0.07      0.12        15\n",
      "         garden       0.09      0.53      0.15        17\n",
      "          hurry       0.00      0.00      0.00        16\n",
      "            ill       0.33      0.47      0.39        17\n",
      "            key       0.12      0.06      0.08        16\n",
      "           look       0.00      0.00      0.00        17\n",
      "          money       0.20      0.19      0.19        16\n",
      "             no       0.00      0.00      0.00        16\n",
      "           okay       0.00      0.00      0.00        16\n",
      "         pillow       0.31      0.65      0.42        17\n",
      "           room       0.67      0.12      0.20        17\n",
      "       scissors       0.12      0.12      0.12        16\n",
      "            tea       0.50      0.06      0.11        17\n",
      "       umbrella       0.00      0.00      0.00        17\n",
      "        wedding       0.05      0.06      0.05        16\n",
      "\n",
      "       accuracy                           0.14       328\n",
      "      macro avg       0.18      0.14      0.11       328\n",
      "   weighted avg       0.18      0.14      0.11       328\n",
      "\n"
     ]
    },
    {
     "name": "stderr",
     "output_type": "stream",
     "text": [
      "c:\\users\\new user\\appdata\\local\\programs\\python\\python38\\lib\\site-packages\\sklearn\\metrics\\_classification.py:1245: UndefinedMetricWarning: Precision and F-score are ill-defined and being set to 0.0 in labels with no predicted samples. Use `zero_division` parameter to control this behavior.\n",
      "  _warn_prf(average, modifier, msg_start, len(result))\n",
      "c:\\users\\new user\\appdata\\local\\programs\\python\\python38\\lib\\site-packages\\sklearn\\metrics\\_classification.py:1245: UndefinedMetricWarning: Precision and F-score are ill-defined and being set to 0.0 in labels with no predicted samples. Use `zero_division` parameter to control this behavior.\n",
      "  _warn_prf(average, modifier, msg_start, len(result))\n",
      "c:\\users\\new user\\appdata\\local\\programs\\python\\python38\\lib\\site-packages\\sklearn\\metrics\\_classification.py:1245: UndefinedMetricWarning: Precision and F-score are ill-defined and being set to 0.0 in labels with no predicted samples. Use `zero_division` parameter to control this behavior.\n",
      "  _warn_prf(average, modifier, msg_start, len(result))\n"
     ]
    }
   ],
   "source": [
    "top_1_predictions = np.argmax(predictions, axis=1)\n",
    "top_1_report = classification_report(autsl_true_label_indices[:top_1_predictions.shape[0]], top_1_predictions, target_names=autsl_classes)\n",
    "print(top_1_report)"
   ]
  },
  {
   "cell_type": "code",
   "execution_count": 54,
   "id": "checked-classic",
   "metadata": {},
   "outputs": [
    {
     "data": {
      "text/plain": [
       "0.49085365853658536"
      ]
     },
     "execution_count": 54,
     "metadata": {},
     "output_type": "execute_result"
    }
   ],
   "source": [
    "top_n_accuracy(predictions, autsl_true_label_indices, 5)"
   ]
  },
  {
   "cell_type": "code",
   "execution_count": 55,
   "id": "selective-geometry",
   "metadata": {},
   "outputs": [
    {
     "data": {
      "text/plain": [
       "0.3475609756097561"
      ]
     },
     "execution_count": 55,
     "metadata": {},
     "output_type": "execute_result"
    }
   ],
   "source": [
    "top_n_accuracy(predictions, autsl_true_label_indices, 3)"
   ]
  },
  {
   "cell_type": "code",
   "execution_count": null,
   "id": "ethical-aircraft",
   "metadata": {},
   "outputs": [],
   "source": [
    "make_confusion_matrix(autsl_true_label_indices, top_1_predictions, autsl_classes, \"AUTSL POSE\")"
   ]
  },
  {
   "cell_type": "markdown",
   "id": "representative-spectrum",
   "metadata": {},
   "source": [
    "# ELAR\n",
    "## RGB + POSE"
   ]
  },
  {
   "cell_type": "code",
   "execution_count": 13,
   "id": "incident-breast",
   "metadata": {},
   "outputs": [
    {
     "name": "stdout",
     "output_type": "stream",
     "text": [
      "Model: \"model\"\n",
      "__________________________________________________________________________________________________\n",
      "Layer (type)                    Output Shape         Param #     Connected to                     \n",
      "==================================================================================================\n",
      "rgb Input (InputLayer)          [(None, None, 224, 2 0                                            \n",
      "__________________________________________________________________________________________________\n",
      "landmarks Input (InputLayer)    [(None, None, 224, 2 0                                            \n",
      "__________________________________________________________________________________________________\n",
      "EfficientNetB0_rgb (TimeDistrib (None, None, 7, 7, 1 4049571     rgb Input[0][0]                  \n",
      "__________________________________________________________________________________________________\n",
      "EfficientNetB0_landmarks (TimeD (None, None, 7, 7, 1 4049571     landmarks Input[0][0]            \n",
      "__________________________________________________________________________________________________\n",
      "time_distributed (TimeDistribut (None, None, 1280)   0           EfficientNetB0_rgb[0][0]         \n",
      "__________________________________________________________________________________________________\n",
      "time_distributed_1 (TimeDistrib (None, None, 1280)   0           EfficientNetB0_landmarks[0][0]   \n",
      "__________________________________________________________________________________________________\n",
      "concatenate (Concatenate)       (None, None, 2560)   0           time_distributed[0][0]           \n",
      "                                                                 time_distributed_1[0][0]         \n",
      "__________________________________________________________________________________________________\n",
      "lstm (LSTM)                     (None, 512)          6293504     concatenate[0][0]                \n",
      "__________________________________________________________________________________________________\n",
      "dense (Dense)                   (None, 512)          262656      lstm[0][0]                       \n",
      "__________________________________________________________________________________________________\n",
      "dropout (Dropout)               (None, 512)          0           dense[0][0]                      \n",
      "__________________________________________________________________________________________________\n",
      "dense_1 (Dense)                 (None, 10)           5130        dropout[0][0]                    \n",
      "==================================================================================================\n",
      "Total params: 14,660,432\n",
      "Trainable params: 6,561,290\n",
      "Non-trainable params: 8,099,142\n",
      "__________________________________________________________________________________________________\n"
     ]
    }
   ],
   "source": [
    "elar_model = tf.keras.models.load_model(ELAR_MODEL_2_PATH)\n",
    "elar_model.summary()"
   ]
  },
  {
   "cell_type": "code",
   "execution_count": 14,
   "id": "aging-supervision",
   "metadata": {},
   "outputs": [],
   "source": [
    "batch = 8\n",
    "input_size = (224, 224, 3)\n",
    "elar_rgb_gen = ImageSequenceDataGenerator(elar_df, str(ELAR_RGB_DATA), batch_size=batch, input_size=input_size, shuffle=False)\n",
    "elar_pose_gen = ImageSequenceDataGenerator(elar_df, str(ELAR_POSE_DATA), batch_size=batch, input_size=input_size, shuffle=False)\n",
    "elar_multi_gen = MultiSequenceGenerator(elar_df, [elar_rgb_gen, elar_pose_gen], shuffle=False)"
   ]
  },
  {
   "cell_type": "code",
   "execution_count": 15,
   "id": "every-rugby",
   "metadata": {},
   "outputs": [
    {
     "name": "stdout",
     "output_type": "stream",
     "text": [
      "47/47 [==============================] - 89s 2s/step\n"
     ]
    }
   ],
   "source": [
    "# Evaluate model\n",
    "elar_predictions = elar_model.predict(elar_multi_gen, batch_size=batch, verbose=1)"
   ]
  },
  {
   "cell_type": "code",
   "execution_count": 16,
   "id": "wrong-aviation",
   "metadata": {},
   "outputs": [
    {
     "name": "stdout",
     "output_type": "stream",
     "text": [
      "              precision    recall  f1-score   support\n",
      "\n",
      "         boy       0.63      0.65      0.64        81\n",
      "         dog       0.64      0.60      0.62        42\n",
      "        frog       0.50      0.31      0.38        29\n",
      "        good       0.50      0.42      0.45        24\n",
      "        have       0.43      0.32      0.37        31\n",
      "        look       0.59      0.64      0.62        73\n",
      "         one       0.40      0.56      0.47        18\n",
      "      people       0.45      0.62      0.52        21\n",
      "    tortoise       0.85      0.88      0.86        32\n",
      "        wolf       0.58      0.60      0.59        25\n",
      "\n",
      "    accuracy                           0.59       376\n",
      "   macro avg       0.56      0.56      0.55       376\n",
      "weighted avg       0.58      0.59      0.58       376\n",
      "\n"
     ]
    }
   ],
   "source": [
    "elar_top_1_predictions = np.argmax(elar_predictions, axis=1)\n",
    "elar_top_1_report = classification_report(elar_true_label_indices[:elar_top_1_predictions.shape[0]], elar_top_1_predictions, target_names=elar_classes)\n",
    "print(elar_top_1_report)"
   ]
  },
  {
   "cell_type": "code",
   "execution_count": 18,
   "id": "light-terrain",
   "metadata": {},
   "outputs": [
    {
     "data": {
      "text/plain": [
       "0.9547872340425532"
      ]
     },
     "execution_count": 18,
     "metadata": {},
     "output_type": "execute_result"
    }
   ],
   "source": [
    "top_n_accuracy(elar_predictions, elar_true_label_indices, 5)"
   ]
  },
  {
   "cell_type": "code",
   "execution_count": 19,
   "id": "patient-stretch",
   "metadata": {},
   "outputs": [
    {
     "data": {
      "text/plain": [
       "0.875"
      ]
     },
     "execution_count": 19,
     "metadata": {},
     "output_type": "execute_result"
    }
   ],
   "source": [
    "top_n_accuracy(elar_predictions, elar_true_label_indices, 3)"
   ]
  },
  {
   "cell_type": "code",
   "execution_count": 20,
   "id": "expected-activation",
   "metadata": {},
   "outputs": [
    {
     "data": {
      "image/png": "[encoded data removed]",
      "text/plain": [
       "<Figure size 1152x720 with 2 Axes>"
      ]
     },
     "metadata": {
      "needs_background": "light"
     },
     "output_type": "display_data"
    }
   ],
   "source": [
    "make_confusion_matrix(elar_true_label_indices, elar_top_1_predictions, elar_classes, \"ELAR Pose\")"
   ]
  },
  {
   "cell_type": "markdown",
   "id": "trained-agenda",
   "metadata": {},
   "source": [
    "## Using just RGB"
   ]
  },
  {
   "cell_type": "code",
   "execution_count": 23,
   "id": "false-flooring",
   "metadata": {},
   "outputs": [
    {
     "name": "stdout",
     "output_type": "stream",
     "text": [
      "Model: \"model_4\"\n",
      "_________________________________________________________________\n",
      "Layer (type)                 Output Shape              Param #   \n",
      "=================================================================\n",
      "input_10 (InputLayer)        [(None, None, 224, 224, 3 0         \n",
      "_________________________________________________________________\n",
      "EfficientNetB0 (TimeDistribu (None, None, 7, 7, 1280)  4049571   \n",
      "_________________________________________________________________\n",
      "time_distributed_4 (TimeDist (None, None, 1280)        0         \n",
      "_________________________________________________________________\n",
      "lstm_4 (LSTM)                (None, 512)               3672064   \n",
      "_________________________________________________________________\n",
      "dense_8 (Dense)              (None, 512)               262656    \n",
      "_________________________________________________________________\n",
      "dropout_4 (Dropout)          (None, 512)               0         \n",
      "_________________________________________________________________\n",
      "dense_9 (Dense)              (None, 10)                5130      \n",
      "=================================================================\n",
      "Total params: 7,989,421\n",
      "Trainable params: 3,939,850\n",
      "Non-trainable params: 4,049,571\n",
      "_________________________________________________________________\n"
     ]
    }
   ],
   "source": [
    "elar_model2 = tf.keras.models.load_model(ELAR_MODEL_PATH)\n",
    "elar_model2.summary()"
   ]
  },
  {
   "cell_type": "code",
   "execution_count": 24,
   "id": "congressional-dylan",
   "metadata": {},
   "outputs": [],
   "source": [
    "batch = 8\n",
    "input_size = (224, 224, 3)\n",
    "elar_rgb_gen = ImageSequenceDataGenerator(elar_df, str(ELAR_RGB_DATA), batch_size=batch, input_size=input_size, shuffle=False)"
   ]
  },
  {
   "cell_type": "code",
   "execution_count": 25,
   "id": "different-reader",
   "metadata": {},
   "outputs": [
    {
     "name": "stdout",
     "output_type": "stream",
     "text": [
      "47/47 [==============================] - 13s 194ms/step\n"
     ]
    }
   ],
   "source": [
    "# Evaluate model\n",
    "predictions = elar_model2.predict(elar_rgb_gen, batch_size=batch, verbose=1)"
   ]
  },
  {
   "cell_type": "code",
   "execution_count": 26,
   "id": "happy-swedish",
   "metadata": {},
   "outputs": [
    {
     "name": "stdout",
     "output_type": "stream",
     "text": [
      "              precision    recall  f1-score   support\n",
      "\n",
      "         boy       0.50      0.73      0.59        81\n",
      "         dog       0.50      0.62      0.55        42\n",
      "        frog       0.38      0.17      0.24        29\n",
      "        good       0.50      0.08      0.14        24\n",
      "        have       0.42      0.45      0.44        31\n",
      "        look       0.51      0.41      0.45        73\n",
      "         one       1.00      0.28      0.43        18\n",
      "      people       0.33      0.19      0.24        21\n",
      "    tortoise       0.86      0.94      0.90        32\n",
      "        wolf       0.50      0.88      0.64        25\n",
      "\n",
      "    accuracy                           0.52       376\n",
      "   macro avg       0.55      0.48      0.46       376\n",
      "weighted avg       0.53      0.52      0.49       376\n",
      "\n"
     ]
    }
   ],
   "source": [
    "elar_top_1_predictions = np.argmax(predictions, axis=1)\n",
    "elar_top_1_report = classification_report(elar_true_label_indices[:elar_top_1_predictions.shape[0]], elar_top_1_predictions, target_names=elar_classes)\n",
    "print(elar_top_1_report)"
   ]
  },
  {
   "cell_type": "code",
   "execution_count": 27,
   "id": "irish-reliance",
   "metadata": {},
   "outputs": [
    {
     "data": {
      "text/plain": [
       "0.8617021276595744"
      ]
     },
     "execution_count": 27,
     "metadata": {},
     "output_type": "execute_result"
    }
   ],
   "source": [
    "top_n_accuracy(predictions, elar_true_label_indices, 3)"
   ]
  },
  {
   "cell_type": "code",
   "execution_count": 28,
   "id": "israeli-berlin",
   "metadata": {},
   "outputs": [
    {
     "data": {
      "text/plain": [
       "0.9574468085106383"
      ]
     },
     "execution_count": 28,
     "metadata": {},
     "output_type": "execute_result"
    }
   ],
   "source": [
    "top_n_accuracy(predictions, elar_true_label_indices, 5)"
   ]
  },
  {
   "cell_type": "code",
   "execution_count": 29,
   "id": "dynamic-scheme",
   "metadata": {},
   "outputs": [
    {
     "data": {
      "image/png": "[encoded data removed]",
      "text/plain": [
       "<Figure size 1152x720 with 2 Axes>"
      ]
     },
     "metadata": {
      "needs_background": "light"
     },
     "output_type": "display_data"
    }
   ],
   "source": [
    "make_confusion_matrix(elar_true_label_indices, elar_top_1_predictions, elar_classes, \"ELAR RGB\")"
   ]
  },
  {
   "cell_type": "code",
   "execution_count": null,
   "id": "binary-alfred",
   "metadata": {},
   "outputs": [],
   "source": []
  }
 ],
 "metadata": {
  "kernelspec": {
   "display_name": "Python 3",
   "language": "python",
   "name": "python3"
  },
  "language_info": {
   "codemirror_mode": {
    "name": "ipython",
    "version": 3
   },
   "file_extension": ".py",
   "mimetype": "text/x-python",
   "name": "python",
   "nbconvert_exporter": "python",
   "pygments_lexer": "ipython3",
   "version": "3.8.8"
  }
 },
 "nbformat": 4,
 "nbformat_minor": 5
}
